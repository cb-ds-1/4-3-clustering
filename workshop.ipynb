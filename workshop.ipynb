{
 "cells": [
  {
   "cell_type": "markdown",
   "metadata": {},
   "source": [
    "### 1. k-means on digits\n",
    "\n",
    "Use K-means clustering on the MNIST dataset (which can be imported with `from sklearn.datasets import load_digits`) to learn to identify the 10 digits in an unsupervised manner.\n",
    "\n",
    "1. Plot the `cluster_centers_` from a kmeans clustering (which should be shape `(10,64)`) onto a `8x8` grid (hint: use `kmeans.cluster_centers_.reshape`)\n",
    "\n",
    "2. Reorganize the clusters so that each of your learned clusters labels overlap with the true label (eg. if the digit 4 has the cluster label 9, you want to remap it to 4). Hint: You can use the statistical mode of your clusters and the real label to match them\n",
    "\n",
    "3. Now that your cluster labels are matched to the supervised learning labels, check the classification accuracy of your clustering model (accuracy score and confusion matrix). Give a two paragraph interpretation.\n",
    "\n",
    "4. Use the Fowlkes-Mallows score to evaluate your clustering against the true labels. Give a two paragraph interpretation comparing to your result in #3."
   ]
  },
  {
   "cell_type": "markdown",
   "metadata": {},
   "source": [
    "**1**"
   ]
  },
  {
   "cell_type": "code",
   "execution_count": 113,
   "metadata": {},
   "outputs": [],
   "source": [
    "import matplotlib.pyplot as plt\n",
    "import numpy as np\n",
    "import seaborn as sns\n",
    "from sklearn.datasets import load_digits\n",
    "from sklearn.cluster import KMeans\n",
    "from sklearn.model_selection import train_test_split"
   ]
  },
  {
   "cell_type": "code",
   "execution_count": 123,
   "metadata": {},
   "outputs": [],
   "source": [
    "digits = load_digits()\n",
    "# Split data into 50% train and 50% test subsets\n",
    "# X_train, X_test, y_train, y_test = train_test_split(\n",
    "#     digits.data, digits.target, test_size=0.2, shuffle=False)"
   ]
  },
  {
   "cell_type": "code",
   "execution_count": 206,
   "metadata": {},
   "outputs": [
    {
     "data": {
      "image/png": "[encoded data removed]",
      "text/plain": [
       "<Figure size 576x216 with 10 Axes>"
      ]
     },
     "metadata": {},
     "output_type": "display_data"
    }
   ],
   "source": [
    "\"\"\"\n",
    "Credit: https://jakevdp.github.io/PythonDataScienceHandbook/05.11-k-means.html\n",
    "\"\"\"\n",
    "kmeans = KMeans(n_clusters=10, random_state=0)\n",
    "predicted = kmeans.fit_predict(digits.data)\n",
    "kmeans.cluster_centers_.shape\n",
    "\n",
    "fig, ax = plt.subplots(2, 5, figsize=(8, 3))\n",
    "centers = kmeans.cluster_centers_.reshape(10, 8, 8)\n",
    "for axi, center in zip(ax.flat, centers):\n",
    "    axi.set(xticks=[], yticks=[])\n",
    "    axi.imshow(center, interpolation='nearest', cmap=plt.cm.binary)"
   ]
  },
  {
   "cell_type": "markdown",
   "metadata": {},
   "source": [
    "**2**"
   ]
  },
  {
   "cell_type": "code",
   "execution_count": 207,
   "metadata": {},
   "outputs": [],
   "source": [
    "from scipy.stats import mode\n",
    "from sklearn.metrics import accuracy_score, classification_report"
   ]
  },
  {
   "cell_type": "code",
   "execution_count": 208,
   "metadata": {},
   "outputs": [
    {
     "data": {
      "text/plain": [
       "array([0, 8, 8, ..., 8, 9, 9], dtype=int32)"
      ]
     },
     "execution_count": 208,
     "metadata": {},
     "output_type": "execute_result"
    }
   ],
   "source": [
    "labels = np.zeros_like(clusters)\n",
    "for i in range(10):\n",
    "    mask = (clusters == i)\n",
    "    labels[mask] = mode(digits.target[mask])[0]\n",
    "labels"
   ]
  },
  {
   "cell_type": "code",
   "execution_count": 209,
   "metadata": {},
   "outputs": [
    {
     "data": {
      "text/plain": [
       "[4, 3, 5, 9, 7, 0, 1, 8, 2, 6]"
      ]
     },
     "execution_count": 209,
     "metadata": {},
     "output_type": "execute_result"
    }
   ],
   "source": [
    "# We get a list of the labels\n",
    "labels_un = [mode(digits.target[(clusters == i)])[0][0] for i in range(10)]\n",
    "labels_un"
   ]
  },
  {
   "cell_type": "code",
   "execution_count": 210,
   "metadata": {},
   "outputs": [
    {
     "data": {
      "image/png": "[encoded data removed]",
      "text/plain": [
       "<Figure size 576x216 with 10 Axes>"
      ]
     },
     "metadata": {},
     "output_type": "display_data"
    }
   ],
   "source": [
    "# We zip the labels list with the list of centers\n",
    "# Then we sort this list of tuples\n",
    "zipped = zip(labels_un, centers)\n",
    "zipped = sorted(zipped, key=lambda x: x[0])\n",
    "sorted_centers = [center[1] for center in zipped]\n",
    "\n",
    "\n",
    "fig, ax = plt.subplots(2, 5, figsize=(8, 3))\n",
    "for axi, center in zip(ax.flat, sorted_centers):\n",
    "    axi.set(xticks=[], yticks=[])\n",
    "    axi.imshow(center, interpolation='nearest', cmap=plt.cm.binary)"
   ]
  },
  {
   "cell_type": "markdown",
   "metadata": {},
   "source": [
    "**3**"
   ]
  },
  {
   "cell_type": "code",
   "execution_count": 213,
   "metadata": {},
   "outputs": [
    {
     "data": {
      "text/plain": [
       "0.7935447968836951"
      ]
     },
     "execution_count": 213,
     "metadata": {},
     "output_type": "execute_result"
    }
   ],
   "source": [
    "accuracy_score(digits.target, labels)\n"
   ]
  },
  {
   "cell_type": "code",
   "execution_count": 214,
   "metadata": {},
   "outputs": [
    {
     "data": {
      "image/png": "[encoded data removed]",
      "text/plain": [
       "<Figure size 432x288 with 1 Axes>"
      ]
     },
     "metadata": {
      "needs_background": "light"
     },
     "output_type": "display_data"
    }
   ],
   "source": [
    "from sklearn.metrics import confusion_matrix\n",
    "mat = confusion_matrix(digits.target, labels)\n",
    "sns.heatmap(mat.T, square=True, annot=True, fmt='d', cbar=False,\n",
    "            xticklabels=digits.target_names,\n",
    "            yticklabels=digits.target_names)\n",
    "plt.xlabel('true label')\n",
    "plt.ylabel('predicted label');"
   ]
  },
  {
   "cell_type": "code",
   "execution_count": 215,
   "metadata": {},
   "outputs": [
    {
     "data": {
      "text/html": [
       "<div>\n",
       "<style scoped>\n",
       "    .dataframe tbody tr th:only-of-type {\n",
       "        vertical-align: middle;\n",
       "    }\n",
       "\n",
       "    .dataframe tbody tr th {\n",
       "        vertical-align: top;\n",
       "    }\n",
       "\n",
       "    .dataframe thead th {\n",
       "        text-align: right;\n",
       "    }\n",
       "</style>\n",
       "<table border=\"1\" class=\"dataframe\">\n",
       "  <thead>\n",
       "    <tr style=\"text-align: right;\">\n",
       "      <th></th>\n",
       "      <th>Label</th>\n",
       "      <th>Totals</th>\n",
       "      <th>Misses</th>\n",
       "      <th>Accuracies</th>\n",
       "    </tr>\n",
       "  </thead>\n",
       "  <tbody>\n",
       "    <tr>\n",
       "      <th>0</th>\n",
       "      <td>0</td>\n",
       "      <td>178</td>\n",
       "      <td>1</td>\n",
       "      <td>0.994382</td>\n",
       "    </tr>\n",
       "    <tr>\n",
       "      <th>1</th>\n",
       "      <td>1</td>\n",
       "      <td>182</td>\n",
       "      <td>127</td>\n",
       "      <td>0.302198</td>\n",
       "    </tr>\n",
       "    <tr>\n",
       "      <th>2</th>\n",
       "      <td>2</td>\n",
       "      <td>177</td>\n",
       "      <td>29</td>\n",
       "      <td>0.836158</td>\n",
       "    </tr>\n",
       "    <tr>\n",
       "      <th>3</th>\n",
       "      <td>3</td>\n",
       "      <td>183</td>\n",
       "      <td>29</td>\n",
       "      <td>0.841530</td>\n",
       "    </tr>\n",
       "    <tr>\n",
       "      <th>4</th>\n",
       "      <td>4</td>\n",
       "      <td>181</td>\n",
       "      <td>18</td>\n",
       "      <td>0.900552</td>\n",
       "    </tr>\n",
       "    <tr>\n",
       "      <th>5</th>\n",
       "      <td>5</td>\n",
       "      <td>182</td>\n",
       "      <td>46</td>\n",
       "      <td>0.747253</td>\n",
       "    </tr>\n",
       "    <tr>\n",
       "      <th>6</th>\n",
       "      <td>6</td>\n",
       "      <td>181</td>\n",
       "      <td>4</td>\n",
       "      <td>0.977901</td>\n",
       "    </tr>\n",
       "    <tr>\n",
       "      <th>7</th>\n",
       "      <td>7</td>\n",
       "      <td>179</td>\n",
       "      <td>2</td>\n",
       "      <td>0.988827</td>\n",
       "    </tr>\n",
       "    <tr>\n",
       "      <th>8</th>\n",
       "      <td>8</td>\n",
       "      <td>174</td>\n",
       "      <td>74</td>\n",
       "      <td>0.574713</td>\n",
       "    </tr>\n",
       "    <tr>\n",
       "      <th>9</th>\n",
       "      <td>9</td>\n",
       "      <td>180</td>\n",
       "      <td>41</td>\n",
       "      <td>0.772222</td>\n",
       "    </tr>\n",
       "  </tbody>\n",
       "</table>\n",
       "</div>"
      ],
      "text/plain": [
       "   Label  Totals  Misses  Accuracies\n",
       "0      0     178       1    0.994382\n",
       "1      1     182     127    0.302198\n",
       "2      2     177      29    0.836158\n",
       "3      3     183      29    0.841530\n",
       "4      4     181      18    0.900552\n",
       "5      5     182      46    0.747253\n",
       "6      6     181       4    0.977901\n",
       "7      7     179       2    0.988827\n",
       "8      8     174      74    0.574713\n",
       "9      9     180      41    0.772222"
      ]
     },
     "execution_count": 215,
     "metadata": {},
     "output_type": "execute_result"
    }
   ],
   "source": [
    "\"\"\"\n",
    "We check the accuracy % of each predicted label, meaning\n",
    "how many counts exist for a given label, in a cell that isn't\n",
    "in the diagonal.\n",
    "\"\"\"\n",
    "\n",
    "import pandas as pd\n",
    "\n",
    "labels = []\n",
    "totals = []\n",
    "misses = []\n",
    "accuracies = []\n",
    "for label in range(len(mat)):\n",
    "    l = list(mat[label])\n",
    "    total =  sum(l)\n",
    "    l.pop(label)\n",
    "    missed = sum(l)\n",
    "    accur = (total - missed) / total\n",
    "    labels.append(label)\n",
    "    totals.append(total)\n",
    "    misses.append(missed)\n",
    "    accuracies.append(accur)\n",
    "    \n",
    "predicts = pd.DataFrame({\n",
    "    \"Label\": labels,\n",
    "    \"Totals\": totals,\n",
    "    \"Misses\": misses,\n",
    "    \"Accuracies\": accuracies\n",
    "})\n",
    "predicts"
   ]
  },
  {
   "cell_type": "code",
   "execution_count": 216,
   "metadata": {},
   "outputs": [
    {
     "data": {
      "text/html": [
       "<div>\n",
       "<style scoped>\n",
       "    .dataframe tbody tr th:only-of-type {\n",
       "        vertical-align: middle;\n",
       "    }\n",
       "\n",
       "    .dataframe tbody tr th {\n",
       "        vertical-align: top;\n",
       "    }\n",
       "\n",
       "    .dataframe thead th {\n",
       "        text-align: right;\n",
       "    }\n",
       "</style>\n",
       "<table border=\"1\" class=\"dataframe\">\n",
       "  <thead>\n",
       "    <tr style=\"text-align: right;\">\n",
       "      <th></th>\n",
       "      <th>Label</th>\n",
       "      <th>Totals</th>\n",
       "      <th>Misses</th>\n",
       "      <th>Accuracies</th>\n",
       "    </tr>\n",
       "  </thead>\n",
       "  <tbody>\n",
       "    <tr>\n",
       "      <th>1</th>\n",
       "      <td>1</td>\n",
       "      <td>182</td>\n",
       "      <td>127</td>\n",
       "      <td>0.302198</td>\n",
       "    </tr>\n",
       "    <tr>\n",
       "      <th>8</th>\n",
       "      <td>8</td>\n",
       "      <td>174</td>\n",
       "      <td>74</td>\n",
       "      <td>0.574713</td>\n",
       "    </tr>\n",
       "  </tbody>\n",
       "</table>\n",
       "</div>"
      ],
      "text/plain": [
       "   Label  Totals  Misses  Accuracies\n",
       "1      1     182     127    0.302198\n",
       "8      8     174      74    0.574713"
      ]
     },
     "execution_count": 216,
     "metadata": {},
     "output_type": "execute_result"
    }
   ],
   "source": [
    "predicts.nsmallest(2, 'Accuracies')"
   ]
  },
  {
   "cell_type": "markdown",
   "metadata": {},
   "source": [
    "Our accuracy score is 0.79, or ~80%. This means we've accurately labeled 8 out of 10 clusters in an unsupervised way.\n",
    "\n",
    "Additionally, we have the following labels that have been mis-predicted more than 20 times: 1, 5 and 8.\n",
    "\n",
    "This means that 1's were mis-labeled 7 times out of 10, and 5's were mis-labeld nearly 4 times out of 10.\n"
   ]
  },
  {
   "cell_type": "markdown",
   "metadata": {},
   "source": [
    "**4**\n"
   ]
  },
  {
   "cell_type": "code",
   "execution_count": 219,
   "metadata": {},
   "outputs": [
    {
     "data": {
      "text/plain": [
       "0.7027346870127681"
      ]
     },
     "execution_count": 219,
     "metadata": {},
     "output_type": "execute_result"
    }
   ],
   "source": [
    "from sklearn.metrics.cluster import fowlkes_mallows_score\n",
    "\n",
    "fowlkes_mallows_score(digits.target, clusters)"
   ]
  },
  {
   "cell_type": "markdown",
   "metadata": {},
   "source": [
    "We see that the FM score is 0.09 percentage points lower than the accuracy_score (AS). As per the sci_kit documentation, we know that that accurary_score is an implementation of the Jaccard Index (JI). The JI, is the quotient of the intersection of two sets, over the resulting set of the same two set's union.\n",
    "Essentially, which percentage of two sets overlap, and in our case, which percentage of predicted labels match the true labels.\n",
    "\n",
    "The FM score on the other hand is a representation of the same overlap as the AS, though interpreted by quantifying the gap between the mean centers of the clusters of the predicted labels from the real label values in a geometric context. \n",
    "\n",
    "As in, quantifying the gap between the true and predicted values as a \"mean\" or average distance between two points or difference of area. It does this by calculating the ratio of the true/ideal results as a distance/value, over the percieved distance/value that seperates the distance/value of the cluster. \n",
    "\n",
    "It's formula, according to scikit, is FMI = TP / sqrt((TP + FP) * (TP + FN)). \n",
    "\n",
    "OR\n",
    "\n",
    "FMI = TP / sqrt((X) * (Y)); X = TP + FP; Y = TP + FN\n",
    "\n",
    "Where X and Y are two orthogonal vectors, each along the x and y axes respectively, and the square root of their products, as per Pythagoras, is the quantified distance between the end of these two vectors of similar or differing length. Therefore, one could summarize the FMI as being a quantifying function of how two clusters (the mean centers of the clusters being the ends of the vectors X and Y) are **different**, by gaging the distance that seperates the mean center of these two clusters in 2D space.\n",
    "\n",
    "\n",
    "Therefore, the difference between AS and FM can be highlighted as being that AS is a single-dimension comparison, on sets or lists, ie, is a value in both sets, or just one.\n",
    "Whereas the FM score is meant to evaluate on a potentially multi-dimensional context, ie, how much overlap is there between the real and predicted cluster, and in which potential direction is this difference in space so that a potential correction could be made.\n",
    "\n",
    "This is why we are seeing a difference between our AS, and our FMI. Our AS is simply telling us that our prediction was 80% accurate, in that there is a 80% overlap in values between our real and predicted sets. Whereas our FM score is telling us that in fact, our mean prediction is off by 100 - 70 = 30% on average."
   ]
  },
  {
   "cell_type": "markdown",
   "metadata": {},
   "source": [
    "\n",
    "### 2: Image Compression second pass\n",
    "\n",
    "Use any the clustering algorithms we see to produce what you think is the best image compression ratio that is **visually indistinguishable** from the original image (recall in the lecture the result was very compressed but also much uglier)\n",
    "\n",
    "Justify your choice and process in 3 paragraphs."
   ]
  },
  {
   "cell_type": "markdown",
   "metadata": {},
   "source": [
    "# 3. Clustering on Colleges\n",
    "\n",
    "This question will use the data from `college.csv`\n",
    "\n",
    "1. Use clustering with `k=2` on all data except whether the college is private of not. Try to match it best to the private/public college split (hint: don't forget to normalize your features!). Evaluate it in terms of classification metrics and clustering metrics.\n",
    "\n",
    "2. Knowing what you found in `3.1`, find the best overall clustering with the k of your choice. Make an argument and a visualization of the clusters (with two relevant statistics) to demonstrate why you think your clustering is good."
   ]
  },
  {
   "cell_type": "code",
   "execution_count": null,
   "metadata": {},
   "outputs": [],
   "source": []
  },
  {
   "cell_type": "code",
   "execution_count": null,
   "metadata": {},
   "outputs": [],
   "source": []
  },
  {
   "cell_type": "code",
   "execution_count": null,
   "metadata": {},
   "outputs": [],
   "source": []
  },
  {
   "cell_type": "code",
   "execution_count": null,
   "metadata": {},
   "outputs": [],
   "source": []
  }
 ],
 "metadata": {
  "anaconda-cloud": {},
  "kernelspec": {
   "display_name": "Python 3",
   "language": "python",
   "name": "python3"
  },
  "language_info": {
   "codemirror_mode": {
    "name": "ipython",
    "version": 3
   },
   "file_extension": ".py",
   "mimetype": "text/x-python",
   "name": "python",
   "nbconvert_exporter": "python",
   "pygments_lexer": "ipython3",
   "version": "3.7.0"
  }
 },
 "nbformat": 4,
 "nbformat_minor": 1
}
