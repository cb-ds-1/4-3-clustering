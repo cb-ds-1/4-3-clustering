{
 "cells": [
  {
   "cell_type": "markdown",
   "metadata": {},
   "source": [
    "### 1. k-means on digits\n",
    "\n",
    "Use K-means clustering on the MNIST dataset (which can be imported with `from sklearn.datasets import load_digits`) to learn to identify the 10 digits in an unsupervised manner.\n",
    "\n",
    "1. Plot the `cluster_centers_` from a kmeans clustering (which should be shape `(10,64)`) onto a `8x8` grid (hint: use `kmeans.cluster_centers_.reshape`)\n",
    "\n",
    "2. Reorganize the clusters so that each of your learned clusters labels overlap with the true label (eg. if the digit 4 has the cluster label 9, you want to remap it to 4). Hint: You can use the statistical mode of your clusters and the real label to match them\n",
    "\n",
    "3. Now that your cluster labels are matched to the supervised learning labels, check the classification accuracy of your clustering model (accuracy score and confusion matrix). Give a two paragraph interpretation.\n",
    "\n",
    "4. Use the Fowlkes-Mallows score to evaluate your clustering against the true labels. Give a two paragraph interpretation comparing to your result in #3."
   ]
  },
  {
   "cell_type": "markdown",
   "metadata": {},
   "source": [
    "**1**"
   ]
  },
  {
   "cell_type": "code",
   "execution_count": 1,
   "metadata": {},
   "outputs": [],
   "source": [
    "import matplotlib.pyplot as plt\n",
    "import numpy as np\n",
    "import seaborn as sns\n",
    "from sklearn.datasets import load_digits\n",
    "from sklearn.cluster import KMeans\n",
    "from sklearn.model_selection import train_test_split"
   ]
  },
  {
   "cell_type": "code",
   "execution_count": 2,
   "metadata": {},
   "outputs": [],
   "source": [
    "digits = load_digits()\n",
    "# Split data into 50% train and 50% test subsets\n",
    "# X_train, X_test, y_train, y_test = train_test_split(\n",
    "#     digits.data, digits.target, test_size=0.2, shuffle=False)"
   ]
  },
  {
   "cell_type": "code",
   "execution_count": 3,
   "metadata": {},
   "outputs": [
    {
     "data": {
      "image/png": "[encoded data removed]",
      "text/plain": [
       "<Figure size 576x216 with 10 Axes>"
      ]
     },
     "metadata": {},
     "output_type": "display_data"
    }
   ],
   "source": [
    "\"\"\"\n",
    "Credit: https://jakevdp.github.io/PythonDataScienceHandbook/05.11-k-means.html\n",
    "\"\"\"\n",
    "kmeans = KMeans(n_clusters=10, random_state=0)\n",
    "predicted = kmeans.fit_predict(digits.data)\n",
    "kmeans.cluster_centers_.shape\n",
    "\n",
    "fig, ax = plt.subplots(2, 5, figsize=(8, 3))\n",
    "centers = kmeans.cluster_centers_.reshape(10, 8, 8)\n",
    "for axi, center in zip(ax.flat, centers):\n",
    "    axi.set(xticks=[], yticks=[])\n",
    "    axi.imshow(center, interpolation='nearest', cmap=plt.cm.binary)"
   ]
  },
  {
   "cell_type": "markdown",
   "metadata": {},
   "source": [
    "**2**"
   ]
  },
  {
   "cell_type": "code",
   "execution_count": 4,
   "metadata": {},
   "outputs": [],
   "source": [
    "from scipy.stats import mode\n",
    "from sklearn.metrics import accuracy_score, classification_report"
   ]
  },
  {
   "cell_type": "code",
   "execution_count": 5,
   "metadata": {},
   "outputs": [
    {
     "data": {
      "text/plain": [
       "array([0, 8, 8, ..., 8, 9, 9], dtype=int32)"
      ]
     },
     "execution_count": 5,
     "metadata": {},
     "output_type": "execute_result"
    }
   ],
   "source": [
    "labels = np.zeros_like(predicted)\n",
    "for i in range(10):\n",
    "    mask = (predicted == i)\n",
    "    labels[mask] = mode(digits.target[mask])[0]\n",
    "labels"
   ]
  },
  {
   "cell_type": "code",
   "execution_count": 6,
   "metadata": {},
   "outputs": [
    {
     "data": {
      "text/plain": [
       "[4, 3, 5, 9, 7, 0, 1, 8, 2, 6]"
      ]
     },
     "execution_count": 6,
     "metadata": {},
     "output_type": "execute_result"
    }
   ],
   "source": [
    "# We get a list of the labels\n",
    "labels_un = [mode(digits.target[(predicted == i)])[0][0] for i in range(10)]\n",
    "labels_un"
   ]
  },
  {
   "cell_type": "code",
   "execution_count": 7,
   "metadata": {},
   "outputs": [
    {
     "data": {
      "image/png": "[encoded data removed]",
      "text/plain": [
       "<Figure size 576x216 with 10 Axes>"
      ]
     },
     "metadata": {},
     "output_type": "display_data"
    }
   ],
   "source": [
    "# We zip the labels list with the list of centers\n",
    "# Then we sort this list of tuples\n",
    "zipped = zip(labels_un, centers)\n",
    "zipped = sorted(zipped, key=lambda x: x[0])\n",
    "sorted_centers = [center[1] for center in zipped]\n",
    "\n",
    "\n",
    "fig, ax = plt.subplots(2, 5, figsize=(8, 3))\n",
    "for axi, center in zip(ax.flat, sorted_centers):\n",
    "    axi.set(xticks=[], yticks=[])\n",
    "    axi.imshow(center, interpolation='nearest', cmap=plt.cm.binary)"
   ]
  },
  {
   "cell_type": "markdown",
   "metadata": {},
   "source": [
    "**3**"
   ]
  },
  {
   "cell_type": "code",
   "execution_count": 8,
   "metadata": {},
   "outputs": [
    {
     "data": {
      "text/plain": [
       "0.7935447968836951"
      ]
     },
     "execution_count": 8,
     "metadata": {},
     "output_type": "execute_result"
    }
   ],
   "source": [
    "accuracy_score(digits.target, labels)\n"
   ]
  },
  {
   "cell_type": "code",
   "execution_count": 9,
   "metadata": {},
   "outputs": [
    {
     "data": {
      "image/png": "[encoded data removed]",
      "text/plain": [
       "<Figure size 432x288 with 1 Axes>"
      ]
     },
     "metadata": {
      "needs_background": "light"
     },
     "output_type": "display_data"
    }
   ],
   "source": [
    "from sklearn.metrics import confusion_matrix\n",
    "mat = confusion_matrix(digits.target, labels)\n",
    "sns.heatmap(mat.T, square=True, annot=True, fmt='d', cbar=False,\n",
    "            xticklabels=digits.target_names,\n",
    "            yticklabels=digits.target_names)\n",
    "plt.xlabel('true label')\n",
    "plt.ylabel('predicted label');"
   ]
  },
  {
   "cell_type": "code",
   "execution_count": 10,
   "metadata": {},
   "outputs": [
    {
     "data": {
      "text/html": [
       "<div>\n",
       "<style scoped>\n",
       "    .dataframe tbody tr th:only-of-type {\n",
       "        vertical-align: middle;\n",
       "    }\n",
       "\n",
       "    .dataframe tbody tr th {\n",
       "        vertical-align: top;\n",
       "    }\n",
       "\n",
       "    .dataframe thead th {\n",
       "        text-align: right;\n",
       "    }\n",
       "</style>\n",
       "<table border=\"1\" class=\"dataframe\">\n",
       "  <thead>\n",
       "    <tr style=\"text-align: right;\">\n",
       "      <th></th>\n",
       "      <th>Label</th>\n",
       "      <th>Totals</th>\n",
       "      <th>Misses</th>\n",
       "      <th>Accuracies</th>\n",
       "    </tr>\n",
       "  </thead>\n",
       "  <tbody>\n",
       "    <tr>\n",
       "      <th>0</th>\n",
       "      <td>0</td>\n",
       "      <td>178</td>\n",
       "      <td>1</td>\n",
       "      <td>0.994382</td>\n",
       "    </tr>\n",
       "    <tr>\n",
       "      <th>1</th>\n",
       "      <td>1</td>\n",
       "      <td>182</td>\n",
       "      <td>127</td>\n",
       "      <td>0.302198</td>\n",
       "    </tr>\n",
       "    <tr>\n",
       "      <th>2</th>\n",
       "      <td>2</td>\n",
       "      <td>177</td>\n",
       "      <td>29</td>\n",
       "      <td>0.836158</td>\n",
       "    </tr>\n",
       "    <tr>\n",
       "      <th>3</th>\n",
       "      <td>3</td>\n",
       "      <td>183</td>\n",
       "      <td>29</td>\n",
       "      <td>0.841530</td>\n",
       "    </tr>\n",
       "    <tr>\n",
       "      <th>4</th>\n",
       "      <td>4</td>\n",
       "      <td>181</td>\n",
       "      <td>18</td>\n",
       "      <td>0.900552</td>\n",
       "    </tr>\n",
       "    <tr>\n",
       "      <th>5</th>\n",
       "      <td>5</td>\n",
       "      <td>182</td>\n",
       "      <td>46</td>\n",
       "      <td>0.747253</td>\n",
       "    </tr>\n",
       "    <tr>\n",
       "      <th>6</th>\n",
       "      <td>6</td>\n",
       "      <td>181</td>\n",
       "      <td>4</td>\n",
       "      <td>0.977901</td>\n",
       "    </tr>\n",
       "    <tr>\n",
       "      <th>7</th>\n",
       "      <td>7</td>\n",
       "      <td>179</td>\n",
       "      <td>2</td>\n",
       "      <td>0.988827</td>\n",
       "    </tr>\n",
       "    <tr>\n",
       "      <th>8</th>\n",
       "      <td>8</td>\n",
       "      <td>174</td>\n",
       "      <td>74</td>\n",
       "      <td>0.574713</td>\n",
       "    </tr>\n",
       "    <tr>\n",
       "      <th>9</th>\n",
       "      <td>9</td>\n",
       "      <td>180</td>\n",
       "      <td>41</td>\n",
       "      <td>0.772222</td>\n",
       "    </tr>\n",
       "  </tbody>\n",
       "</table>\n",
       "</div>"
      ],
      "text/plain": [
       "   Label  Totals  Misses  Accuracies\n",
       "0      0     178       1    0.994382\n",
       "1      1     182     127    0.302198\n",
       "2      2     177      29    0.836158\n",
       "3      3     183      29    0.841530\n",
       "4      4     181      18    0.900552\n",
       "5      5     182      46    0.747253\n",
       "6      6     181       4    0.977901\n",
       "7      7     179       2    0.988827\n",
       "8      8     174      74    0.574713\n",
       "9      9     180      41    0.772222"
      ]
     },
     "execution_count": 10,
     "metadata": {},
     "output_type": "execute_result"
    }
   ],
   "source": [
    "\"\"\"\n",
    "We check the accuracy % of each predicted label, meaning\n",
    "how many counts exist for a given label, in a cell that isn't\n",
    "in the diagonal.\n",
    "\"\"\"\n",
    "\n",
    "import pandas as pd\n",
    "\n",
    "labels = []\n",
    "totals = []\n",
    "misses = []\n",
    "accuracies = []\n",
    "for label in range(len(mat)):\n",
    "    l = list(mat[label])\n",
    "    total =  sum(l)\n",
    "    l.pop(label)\n",
    "    missed = sum(l)\n",
    "    accur = (total - missed) / total\n",
    "    labels.append(label)\n",
    "    totals.append(total)\n",
    "    misses.append(missed)\n",
    "    accuracies.append(accur)\n",
    "    \n",
    "predicts = pd.DataFrame({\n",
    "    \"Label\": labels,\n",
    "    \"Totals\": totals,\n",
    "    \"Misses\": misses,\n",
    "    \"Accuracies\": accuracies\n",
    "})\n",
    "predicts"
   ]
  },
  {
   "cell_type": "code",
   "execution_count": 11,
   "metadata": {},
   "outputs": [
    {
     "data": {
      "text/html": [
       "<div>\n",
       "<style scoped>\n",
       "    .dataframe tbody tr th:only-of-type {\n",
       "        vertical-align: middle;\n",
       "    }\n",
       "\n",
       "    .dataframe tbody tr th {\n",
       "        vertical-align: top;\n",
       "    }\n",
       "\n",
       "    .dataframe thead th {\n",
       "        text-align: right;\n",
       "    }\n",
       "</style>\n",
       "<table border=\"1\" class=\"dataframe\">\n",
       "  <thead>\n",
       "    <tr style=\"text-align: right;\">\n",
       "      <th></th>\n",
       "      <th>Label</th>\n",
       "      <th>Totals</th>\n",
       "      <th>Misses</th>\n",
       "      <th>Accuracies</th>\n",
       "    </tr>\n",
       "  </thead>\n",
       "  <tbody>\n",
       "    <tr>\n",
       "      <th>1</th>\n",
       "      <td>1</td>\n",
       "      <td>182</td>\n",
       "      <td>127</td>\n",
       "      <td>0.302198</td>\n",
       "    </tr>\n",
       "    <tr>\n",
       "      <th>8</th>\n",
       "      <td>8</td>\n",
       "      <td>174</td>\n",
       "      <td>74</td>\n",
       "      <td>0.574713</td>\n",
       "    </tr>\n",
       "  </tbody>\n",
       "</table>\n",
       "</div>"
      ],
      "text/plain": [
       "   Label  Totals  Misses  Accuracies\n",
       "1      1     182     127    0.302198\n",
       "8      8     174      74    0.574713"
      ]
     },
     "execution_count": 11,
     "metadata": {},
     "output_type": "execute_result"
    }
   ],
   "source": [
    "predicts.nsmallest(2, 'Accuracies')"
   ]
  },
  {
   "cell_type": "markdown",
   "metadata": {},
   "source": [
    "Our accuracy score is 0.79, or ~80%. This means we've accurately labeled 8 out of 10 clusters in an unsupervised way.\n",
    "\n",
    "Additionally, we have the following labels that have been mis-predicted more than 20 times: 1, 5 and 8.\n",
    "\n",
    "This means that 1's were mis-labeled 7 times out of 10, and 5's were mis-labeld nearly 4 times out of 10.\n"
   ]
  },
  {
   "cell_type": "markdown",
   "metadata": {},
   "source": [
    "**4**\n"
   ]
  },
  {
   "cell_type": "code",
   "execution_count": 12,
   "metadata": {},
   "outputs": [
    {
     "data": {
      "text/plain": [
       "0.702734687012768"
      ]
     },
     "execution_count": 12,
     "metadata": {},
     "output_type": "execute_result"
    }
   ],
   "source": [
    "from sklearn.metrics.cluster import fowlkes_mallows_score\n",
    "\n",
    "fowlkes_mallows_score(digits.target, predicted)"
   ]
  },
  {
   "cell_type": "markdown",
   "metadata": {},
   "source": [
    "We see that the FM score is 0.09 percentage points lower than the accuracy_score (AS). As per the sci_kit documentation, we know that that accurary_score is an implementation of the Jaccard Index (JI). The JI, is the quotient of the intersection of two sets, over the resulting set of the same two set's union.\n",
    "Essentially, which percentage of two sets overlap, and in our case, which percentage of predicted labels match the true labels.\n",
    "\n",
    "The FM score on the other hand is a representation of the same overlap as the AS, though interpreted by quantifying the gap between the mean centers of the clusters of the predicted labels from the real label values in a geometric context. \n",
    "\n",
    "As in, quantifying the gap between the true and predicted values as a \"mean\" or average distance between two points or difference of area. It does this by calculating the ratio of the true/ideal results as a distance/value, over the percieved distance/value that seperates the distance/value of the cluster. \n",
    "\n",
    "It's formula, according to scikit, is FMI = TP / sqrt((TP + FP) * (TP + FN)). \n",
    "\n",
    "OR\n",
    "\n",
    "FMI = TP / sqrt((X) * (Y)); X = TP + FP; Y = TP + FN\n",
    "\n",
    "Where X and Y are two orthogonal vectors, each along the x and y axes respectively, and the square root of their products, as per Pythagoras, is the quantified distance between the end of these two vectors of similar or differing length. Therefore, one could summarize the FMI as being a quantifying function of how two clusters (the mean centers of the clusters being the ends of the vectors X and Y) are **different**, by gaging the distance that seperates the mean center of these two clusters in 2D space.\n",
    "\n",
    "\n",
    "Therefore, the difference between AS and FM can be highlighted as being that AS is a single-dimension comparison, on sets or lists, ie, is a value in both sets, or just one.\n",
    "Whereas the FM score is meant to evaluate on a potentially multi-dimensional context, ie, how much overlap is there between the real and predicted cluster, and in which potential direction is this difference in space so that a potential correction could be made.\n",
    "\n",
    "This is why we are seeing a difference between our AS, and our FMI. Our AS is simply telling us that our prediction was 80% accurate, in that there is a 80% overlap in values between our real and predicted sets. Whereas our FM score is telling us that in fact, our mean prediction is off by 100 - 70 = 30% on average."
   ]
  },
  {
   "cell_type": "markdown",
   "metadata": {},
   "source": [
    "\n",
    "### 2: Image Compression second pass\n",
    "\n",
    "Use any the clustering algorithms we see to produce what you think is the best image compression ratio that is **visually indistinguishable** from the original image (recall in the lecture the result was very compressed but also much uglier)\n",
    "\n",
    "Justify your choice and process in 3 paragraphs."
   ]
  },
  {
   "cell_type": "code",
   "execution_count": 13,
   "metadata": {},
   "outputs": [],
   "source": [
    "from sklearn.datasets import load_sample_image\n",
    "import numpy as np\n",
    "from PIL import Image\n",
    "china = load_sample_image(\"china.jpg\")"
   ]
  },
  {
   "cell_type": "code",
   "execution_count": 14,
   "metadata": {},
   "outputs": [
    {
     "data": {
      "text/plain": [
       "(427, 640, 3)"
      ]
     },
     "execution_count": 14,
     "metadata": {},
     "output_type": "execute_result"
    }
   ],
   "source": [
    "china.shape"
   ]
  },
  {
   "cell_type": "markdown",
   "metadata": {},
   "source": [
    "I haven't had time to implement this into actual code.\n",
    "\n",
    "Since we're attempting compression that optimizes for image quality and image size, we're looking at a simili-lossless compression. This would mean having as many clusters as possible, in fact, maximizing K -> {# of colours in the image}, while our resulting K < {# of colours in the image} (otherwise, it's not an actual compression.\n",
    "\n",
    "Algorithmically, this would involve running a bisection-like iteration over a starting K = 0 value, and increasing our K value until we reach a certain accuracy score, or until K = {# of colours in the image} - 1 (minimum level of compression possible). In the field of clustering, this would mean finding our\n",
    "\n",
    "Therefore, as there can be 16581375 possible combinations of RGB colors, we can afford up to 16481374 clusters. This is still a relatively large number, and we can assume the computation time for this would be quite significant as the value of K increases. This isn't ideal either should we decide to not know what kind of image we would compress. Ideally, this would mean using a Hierarchical k means clustering method.\n",
    "\n",
    "The advantage with this approach is that we're able to split down the "
   ]
  },
  {
   "cell_type": "markdown",
   "metadata": {},
   "source": [
    "# 3. Clustering on Colleges\n",
    "\n",
    "This question will use the data from `college.csv`\n",
    "\n",
    "1. Use clustering with `k=2` on all data except whether the college is private of not. Try to match it best to the private/public college split (hint: don't forget to normalize your features!). Evaluate it in terms of classification metrics and clustering metrics.\n",
    "\n",
    "2. Knowing what you found in `3.1`, find the best overall clustering with the k of your choice. Make an argument and a visualization of the clusters (with two relevant statistics) to demonstrate why you think your clustering is good."
   ]
  },
  {
   "cell_type": "code",
   "execution_count": 3,
   "metadata": {},
   "outputs": [],
   "source": [
    "import pandas as pd\n",
    "from sklearn.preprocessing import MinMaxScaler\n",
    "from sklearn.cluster import KMeans"
   ]
  },
  {
   "cell_type": "code",
   "execution_count": 4,
   "metadata": {},
   "outputs": [],
   "source": [
    "data = pd.read_csv('data/college.csv')\n",
    "data.head()\n",
    "data = data.drop('Unnamed: 0',axis=1)\n",
    "columns = list(data.columns)\n",
    "columns.remove('Private')"
   ]
  },
  {
   "cell_type": "code",
   "execution_count": 5,
   "metadata": {
    "scrolled": true
   },
   "outputs": [
    {
     "data": {
      "text/plain": [
       "KMeans(n_clusters=2)"
      ]
     },
     "execution_count": 5,
     "metadata": {},
     "output_type": "execute_result"
    }
   ],
   "source": [
    "\n",
    "# we basically normalize all values between 0 and 1.\n",
    "\n",
    "def normalize(minv, maxv, v):\n",
    "    return (v - minv) / (maxv - minv)\n",
    "\n",
    "for column in columns:\n",
    "    minc = data[column].min()\n",
    "    maxc = data[column].max()\n",
    "    data[column] = data[column].apply(lambda x: normalize(minc, maxc, x))\n",
    "\n",
    "# Credit: https://towardsdatascience.com/k-means-clustering-of-university-data-9e8491068778\n",
    "km = KMeans(n_clusters=2)\n",
    "fit = km.fit(data.drop('Private', axis=1))\n",
    "fit"
   ]
  },
  {
   "cell_type": "code",
   "execution_count": 6,
   "metadata": {},
   "outputs": [
    {
     "data": {
      "text/plain": [
       "KMeans(n_clusters=2)"
      ]
     },
     "execution_count": 6,
     "metadata": {},
     "output_type": "execute_result"
    }
   ],
   "source": [
    "km = KMeans(n_clusters=2)\n",
    "fit = km.fit(data.drop('Private', axis=1))\n",
    "fit"
   ]
  },
  {
   "cell_type": "code",
   "execution_count": 7,
   "metadata": {},
   "outputs": [
    {
     "name": "stdout",
     "output_type": "stream",
     "text": [
      "[[0.08632151 0.09749031 0.13836274 0.44044701 0.70544182 0.12525339\n",
      "  0.02649792 0.5981359  0.51275933 0.20924444 0.14167259 0.80796683\n",
      "  0.87671233 0.26013625 0.48212757 0.1910198  0.62160705]\n",
      " [0.04548278 0.06008388 0.10444173 0.18270212 0.39913901 0.10567128\n",
      "  0.04672759 0.31022472 0.34219459 0.19770476 0.18146407 0.60397179\n",
      "  0.64636462 0.34116802 0.27905928 0.08051941 0.44849179]]\n"
     ]
    }
   ],
   "source": [
    "print(fit.cluster_centers_)"
   ]
  },
  {
   "cell_type": "code",
   "execution_count": 8,
   "metadata": {},
   "outputs": [],
   "source": [
    "def convertToCluster(cluster):\n",
    "    if cluster=='Yes':\n",
    "        return 1\n",
    "    else:\n",
    "        return 0\n",
    "data['Cluster'] = data['Private'].apply(convertToCluster)\n",
    "from sklearn.metrics import classification_report,confusion_matrix"
   ]
  },
  {
   "cell_type": "code",
   "execution_count": 9,
   "metadata": {},
   "outputs": [
    {
     "name": "stdout",
     "output_type": "stream",
     "text": [
      "              precision    recall  f1-score   support\n",
      "\n",
      "           0       0.14      0.20      0.17       212\n",
      "           1       0.65      0.56      0.60       565\n",
      "\n",
      "    accuracy                           0.46       777\n",
      "   macro avg       0.40      0.38      0.38       777\n",
      "weighted avg       0.51      0.46      0.48       777\n",
      "\n"
     ]
    }
   ],
   "source": [
    "from sklearn.metrics import confusion_matrix,classification_report\n",
    "confM = confusion_matrix(data['Cluster'],km.labels_)\n",
    "rep = classification_report(data['Cluster'],km.labels_)\n",
    "print(rep)"
   ]
  },
  {
   "cell_type": "markdown",
   "metadata": {},
   "source": [
    "Here we see that our clustering was relatively accurate, 72%."
   ]
  },
  {
   "cell_type": "markdown",
   "metadata": {},
   "source": [
    "**2**"
   ]
  },
  {
   "cell_type": "code",
   "execution_count": 16,
   "metadata": {},
   "outputs": [
    {
     "name": "stdout",
     "output_type": "stream",
     "text": [
      "0.24.1\n"
     ]
    }
   ],
   "source": [
    "from itertools import chain, combinations\n",
    "import sklearn\n",
    "\n",
    "print(sklearn.__version__)\n",
    "\n",
    "def clusters_by_k(data, k=2):\n",
    "    df_o = {\n",
    "        'AtIndex': [],\n",
    "        'precision': [],\n",
    "    }\n",
    "    for i in range(1, k + 1):\n",
    "        df_o['Feature {i}'.format(i=i)] = []\n",
    "    \n",
    "    fits = []\n",
    "\n",
    "    combs = list(combinations(columns, k))\n",
    "\n",
    "    dropped = data.drop('Private', axis=1)\n",
    "\n",
    "    for comb in combs:\n",
    "        entry = {}\n",
    "        km_ = KMeans(n_clusters=k)\n",
    "        entry['fitted'] = km_.fit(dropped[list(comb)])\n",
    "        cols = ['Cluster'] + list(comb)\n",
    "        entry['confM'] = confusion_matrix(data[cols]['Cluster'],km_.labels_)\n",
    "#         print(km_.labels_)\n",
    "        entry['rep'] = classification_report(data[cols]['Cluster'], km_.labels_, output_dict=True)\n",
    "        entry['precision'] = entry['rep']['weighted avg']['precision']\n",
    "#         df_o['Labels'].append(entry['columns'])\n",
    "        df_o['AtIndex'].append(len(df_o['AtIndex']))\n",
    "        df_o['precision'].append(entry['precision'])\n",
    "        for i in range(1, k + 1):\n",
    "            df_o['Feature {i}'.format(i=i)].append(list(comb)[i - 1])\n",
    "        fits.append(entry)\n",
    "    \n",
    "    fit_df = pd.DataFrame(df_o)\n",
    "    return {'df':fit_df, 'df_o': df_o}"
   ]
  },
  {
   "cell_type": "code",
   "execution_count": 17,
   "metadata": {},
   "outputs": [
    {
     "data": {
      "text/html": [
       "<div>\n",
       "<style scoped>\n",
       "    .dataframe tbody tr th:only-of-type {\n",
       "        vertical-align: middle;\n",
       "    }\n",
       "\n",
       "    .dataframe tbody tr th {\n",
       "        vertical-align: top;\n",
       "    }\n",
       "\n",
       "    .dataframe thead th {\n",
       "        text-align: right;\n",
       "    }\n",
       "</style>\n",
       "<table border=\"1\" class=\"dataframe\">\n",
       "  <thead>\n",
       "    <tr style=\"text-align: right;\">\n",
       "      <th></th>\n",
       "      <th>AtIndex</th>\n",
       "      <th>precision</th>\n",
       "      <th>Feature 1</th>\n",
       "      <th>Feature 2</th>\n",
       "    </tr>\n",
       "  </thead>\n",
       "  <tbody>\n",
       "    <tr>\n",
       "      <th>0</th>\n",
       "      <td>0</td>\n",
       "      <td>0.290456</td>\n",
       "      <td>Apps</td>\n",
       "      <td>Accept</td>\n",
       "    </tr>\n",
       "    <tr>\n",
       "      <th>1</th>\n",
       "      <td>1</td>\n",
       "      <td>0.178991</td>\n",
       "      <td>Apps</td>\n",
       "      <td>Enroll</td>\n",
       "    </tr>\n",
       "    <tr>\n",
       "      <th>2</th>\n",
       "      <td>2</td>\n",
       "      <td>0.576122</td>\n",
       "      <td>Apps</td>\n",
       "      <td>Top10perc</td>\n",
       "    </tr>\n",
       "    <tr>\n",
       "      <th>3</th>\n",
       "      <td>3</td>\n",
       "      <td>0.640613</td>\n",
       "      <td>Apps</td>\n",
       "      <td>Top25perc</td>\n",
       "    </tr>\n",
       "    <tr>\n",
       "      <th>4</th>\n",
       "      <td>4</td>\n",
       "      <td>0.830270</td>\n",
       "      <td>Apps</td>\n",
       "      <td>F.Undergrad</td>\n",
       "    </tr>\n",
       "    <tr>\n",
       "      <th>5</th>\n",
       "      <td>5</td>\n",
       "      <td>0.806898</td>\n",
       "      <td>Apps</td>\n",
       "      <td>P.Undergrad</td>\n",
       "    </tr>\n",
       "    <tr>\n",
       "      <th>6</th>\n",
       "      <td>6</td>\n",
       "      <td>0.438977</td>\n",
       "      <td>Apps</td>\n",
       "      <td>Outstate</td>\n",
       "    </tr>\n",
       "    <tr>\n",
       "      <th>7</th>\n",
       "      <td>7</td>\n",
       "      <td>0.709430</td>\n",
       "      <td>Apps</td>\n",
       "      <td>Room.Board</td>\n",
       "    </tr>\n",
       "    <tr>\n",
       "      <th>8</th>\n",
       "      <td>8</td>\n",
       "      <td>0.328265</td>\n",
       "      <td>Apps</td>\n",
       "      <td>Books</td>\n",
       "    </tr>\n",
       "    <tr>\n",
       "      <th>9</th>\n",
       "      <td>9</td>\n",
       "      <td>0.760646</td>\n",
       "      <td>Apps</td>\n",
       "      <td>Personal</td>\n",
       "    </tr>\n",
       "    <tr>\n",
       "      <th>10</th>\n",
       "      <td>10</td>\n",
       "      <td>0.711740</td>\n",
       "      <td>Apps</td>\n",
       "      <td>PhD</td>\n",
       "    </tr>\n",
       "    <tr>\n",
       "      <th>11</th>\n",
       "      <td>11</td>\n",
       "      <td>0.552203</td>\n",
       "      <td>Apps</td>\n",
       "      <td>Terminal</td>\n",
       "    </tr>\n",
       "    <tr>\n",
       "      <th>12</th>\n",
       "      <td>12</td>\n",
       "      <td>0.302710</td>\n",
       "      <td>Apps</td>\n",
       "      <td>S.F.Ratio</td>\n",
       "    </tr>\n",
       "    <tr>\n",
       "      <th>13</th>\n",
       "      <td>13</td>\n",
       "      <td>0.444059</td>\n",
       "      <td>Apps</td>\n",
       "      <td>perc.alumni</td>\n",
       "    </tr>\n",
       "    <tr>\n",
       "      <th>14</th>\n",
       "      <td>14</td>\n",
       "      <td>0.583186</td>\n",
       "      <td>Apps</td>\n",
       "      <td>Expend</td>\n",
       "    </tr>\n",
       "    <tr>\n",
       "      <th>15</th>\n",
       "      <td>15</td>\n",
       "      <td>0.473215</td>\n",
       "      <td>Apps</td>\n",
       "      <td>Grad.Rate</td>\n",
       "    </tr>\n",
       "    <tr>\n",
       "      <th>16</th>\n",
       "      <td>16</td>\n",
       "      <td>0.167126</td>\n",
       "      <td>Accept</td>\n",
       "      <td>Enroll</td>\n",
       "    </tr>\n",
       "    <tr>\n",
       "      <th>17</th>\n",
       "      <td>17</td>\n",
       "      <td>0.648580</td>\n",
       "      <td>Accept</td>\n",
       "      <td>Top10perc</td>\n",
       "    </tr>\n",
       "    <tr>\n",
       "      <th>18</th>\n",
       "      <td>18</td>\n",
       "      <td>0.635674</td>\n",
       "      <td>Accept</td>\n",
       "      <td>Top25perc</td>\n",
       "    </tr>\n",
       "    <tr>\n",
       "      <th>19</th>\n",
       "      <td>19</td>\n",
       "      <td>0.124027</td>\n",
       "      <td>Accept</td>\n",
       "      <td>F.Undergrad</td>\n",
       "    </tr>\n",
       "    <tr>\n",
       "      <th>20</th>\n",
       "      <td>20</td>\n",
       "      <td>0.203606</td>\n",
       "      <td>Accept</td>\n",
       "      <td>P.Undergrad</td>\n",
       "    </tr>\n",
       "    <tr>\n",
       "      <th>21</th>\n",
       "      <td>21</td>\n",
       "      <td>0.818672</td>\n",
       "      <td>Accept</td>\n",
       "      <td>Outstate</td>\n",
       "    </tr>\n",
       "    <tr>\n",
       "      <th>22</th>\n",
       "      <td>22</td>\n",
       "      <td>0.708848</td>\n",
       "      <td>Accept</td>\n",
       "      <td>Room.Board</td>\n",
       "    </tr>\n",
       "    <tr>\n",
       "      <th>23</th>\n",
       "      <td>23</td>\n",
       "      <td>0.768324</td>\n",
       "      <td>Accept</td>\n",
       "      <td>Books</td>\n",
       "    </tr>\n",
       "    <tr>\n",
       "      <th>24</th>\n",
       "      <td>24</td>\n",
       "      <td>0.766245</td>\n",
       "      <td>Accept</td>\n",
       "      <td>Personal</td>\n",
       "    </tr>\n",
       "    <tr>\n",
       "      <th>25</th>\n",
       "      <td>25</td>\n",
       "      <td>0.712883</td>\n",
       "      <td>Accept</td>\n",
       "      <td>PhD</td>\n",
       "    </tr>\n",
       "    <tr>\n",
       "      <th>26</th>\n",
       "      <td>26</td>\n",
       "      <td>0.671003</td>\n",
       "      <td>Accept</td>\n",
       "      <td>Terminal</td>\n",
       "    </tr>\n",
       "    <tr>\n",
       "      <th>27</th>\n",
       "      <td>27</td>\n",
       "      <td>0.271151</td>\n",
       "      <td>Accept</td>\n",
       "      <td>S.F.Ratio</td>\n",
       "    </tr>\n",
       "    <tr>\n",
       "      <th>28</th>\n",
       "      <td>28</td>\n",
       "      <td>0.797521</td>\n",
       "      <td>Accept</td>\n",
       "      <td>perc.alumni</td>\n",
       "    </tr>\n",
       "    <tr>\n",
       "      <th>29</th>\n",
       "      <td>29</td>\n",
       "      <td>0.402151</td>\n",
       "      <td>Accept</td>\n",
       "      <td>Expend</td>\n",
       "    </tr>\n",
       "    <tr>\n",
       "      <th>...</th>\n",
       "      <td>...</td>\n",
       "      <td>...</td>\n",
       "      <td>...</td>\n",
       "      <td>...</td>\n",
       "    </tr>\n",
       "    <tr>\n",
       "      <th>106</th>\n",
       "      <td>106</td>\n",
       "      <td>0.737842</td>\n",
       "      <td>Room.Board</td>\n",
       "      <td>Expend</td>\n",
       "    </tr>\n",
       "    <tr>\n",
       "      <th>107</th>\n",
       "      <td>107</td>\n",
       "      <td>0.777988</td>\n",
       "      <td>Room.Board</td>\n",
       "      <td>Grad.Rate</td>\n",
       "    </tr>\n",
       "    <tr>\n",
       "      <th>108</th>\n",
       "      <td>108</td>\n",
       "      <td>0.717364</td>\n",
       "      <td>Books</td>\n",
       "      <td>Personal</td>\n",
       "    </tr>\n",
       "    <tr>\n",
       "      <th>109</th>\n",
       "      <td>109</td>\n",
       "      <td>0.525008</td>\n",
       "      <td>Books</td>\n",
       "      <td>PhD</td>\n",
       "    </tr>\n",
       "    <tr>\n",
       "      <th>110</th>\n",
       "      <td>110</td>\n",
       "      <td>0.550008</td>\n",
       "      <td>Books</td>\n",
       "      <td>Terminal</td>\n",
       "    </tr>\n",
       "    <tr>\n",
       "      <th>111</th>\n",
       "      <td>111</td>\n",
       "      <td>0.812883</td>\n",
       "      <td>Books</td>\n",
       "      <td>S.F.Ratio</td>\n",
       "    </tr>\n",
       "    <tr>\n",
       "      <th>112</th>\n",
       "      <td>112</td>\n",
       "      <td>0.444725</td>\n",
       "      <td>Books</td>\n",
       "      <td>perc.alumni</td>\n",
       "    </tr>\n",
       "    <tr>\n",
       "      <th>113</th>\n",
       "      <td>113</td>\n",
       "      <td>0.533598</td>\n",
       "      <td>Books</td>\n",
       "      <td>Expend</td>\n",
       "    </tr>\n",
       "    <tr>\n",
       "      <th>114</th>\n",
       "      <td>114</td>\n",
       "      <td>0.461221</td>\n",
       "      <td>Books</td>\n",
       "      <td>Grad.Rate</td>\n",
       "    </tr>\n",
       "    <tr>\n",
       "      <th>115</th>\n",
       "      <td>115</td>\n",
       "      <td>0.522441</td>\n",
       "      <td>Personal</td>\n",
       "      <td>PhD</td>\n",
       "    </tr>\n",
       "    <tr>\n",
       "      <th>116</th>\n",
       "      <td>116</td>\n",
       "      <td>0.663761</td>\n",
       "      <td>Personal</td>\n",
       "      <td>Terminal</td>\n",
       "    </tr>\n",
       "    <tr>\n",
       "      <th>117</th>\n",
       "      <td>117</td>\n",
       "      <td>0.813735</td>\n",
       "      <td>Personal</td>\n",
       "      <td>S.F.Ratio</td>\n",
       "    </tr>\n",
       "    <tr>\n",
       "      <th>118</th>\n",
       "      <td>118</td>\n",
       "      <td>0.795629</td>\n",
       "      <td>Personal</td>\n",
       "      <td>perc.alumni</td>\n",
       "    </tr>\n",
       "    <tr>\n",
       "      <th>119</th>\n",
       "      <td>119</td>\n",
       "      <td>0.743610</td>\n",
       "      <td>Personal</td>\n",
       "      <td>Expend</td>\n",
       "    </tr>\n",
       "    <tr>\n",
       "      <th>120</th>\n",
       "      <td>120</td>\n",
       "      <td>0.446628</td>\n",
       "      <td>Personal</td>\n",
       "      <td>Grad.Rate</td>\n",
       "    </tr>\n",
       "    <tr>\n",
       "      <th>121</th>\n",
       "      <td>121</td>\n",
       "      <td>0.534975</td>\n",
       "      <td>PhD</td>\n",
       "      <td>Terminal</td>\n",
       "    </tr>\n",
       "    <tr>\n",
       "      <th>122</th>\n",
       "      <td>122</td>\n",
       "      <td>0.525906</td>\n",
       "      <td>PhD</td>\n",
       "      <td>S.F.Ratio</td>\n",
       "    </tr>\n",
       "    <tr>\n",
       "      <th>123</th>\n",
       "      <td>123</td>\n",
       "      <td>0.464948</td>\n",
       "      <td>PhD</td>\n",
       "      <td>perc.alumni</td>\n",
       "    </tr>\n",
       "    <tr>\n",
       "      <th>124</th>\n",
       "      <td>124</td>\n",
       "      <td>0.527008</td>\n",
       "      <td>PhD</td>\n",
       "      <td>Expend</td>\n",
       "    </tr>\n",
       "    <tr>\n",
       "      <th>125</th>\n",
       "      <td>125</td>\n",
       "      <td>0.627761</td>\n",
       "      <td>PhD</td>\n",
       "      <td>Grad.Rate</td>\n",
       "    </tr>\n",
       "    <tr>\n",
       "      <th>126</th>\n",
       "      <td>126</td>\n",
       "      <td>0.559483</td>\n",
       "      <td>Terminal</td>\n",
       "      <td>S.F.Ratio</td>\n",
       "    </tr>\n",
       "    <tr>\n",
       "      <th>127</th>\n",
       "      <td>127</td>\n",
       "      <td>0.713130</td>\n",
       "      <td>Terminal</td>\n",
       "      <td>perc.alumni</td>\n",
       "    </tr>\n",
       "    <tr>\n",
       "      <th>128</th>\n",
       "      <td>128</td>\n",
       "      <td>0.566463</td>\n",
       "      <td>Terminal</td>\n",
       "      <td>Expend</td>\n",
       "    </tr>\n",
       "    <tr>\n",
       "      <th>129</th>\n",
       "      <td>129</td>\n",
       "      <td>0.594239</td>\n",
       "      <td>Terminal</td>\n",
       "      <td>Grad.Rate</td>\n",
       "    </tr>\n",
       "    <tr>\n",
       "      <th>130</th>\n",
       "      <td>130</td>\n",
       "      <td>0.796119</td>\n",
       "      <td>S.F.Ratio</td>\n",
       "      <td>perc.alumni</td>\n",
       "    </tr>\n",
       "    <tr>\n",
       "      <th>131</th>\n",
       "      <td>131</td>\n",
       "      <td>0.798721</td>\n",
       "      <td>S.F.Ratio</td>\n",
       "      <td>Expend</td>\n",
       "    </tr>\n",
       "    <tr>\n",
       "      <th>132</th>\n",
       "      <td>132</td>\n",
       "      <td>0.771775</td>\n",
       "      <td>S.F.Ratio</td>\n",
       "      <td>Grad.Rate</td>\n",
       "    </tr>\n",
       "    <tr>\n",
       "      <th>133</th>\n",
       "      <td>133</td>\n",
       "      <td>0.445153</td>\n",
       "      <td>perc.alumni</td>\n",
       "      <td>Expend</td>\n",
       "    </tr>\n",
       "    <tr>\n",
       "      <th>134</th>\n",
       "      <td>134</td>\n",
       "      <td>0.803448</td>\n",
       "      <td>perc.alumni</td>\n",
       "      <td>Grad.Rate</td>\n",
       "    </tr>\n",
       "    <tr>\n",
       "      <th>135</th>\n",
       "      <td>135</td>\n",
       "      <td>0.748204</td>\n",
       "      <td>Expend</td>\n",
       "      <td>Grad.Rate</td>\n",
       "    </tr>\n",
       "  </tbody>\n",
       "</table>\n",
       "<p>136 rows × 4 columns</p>\n",
       "</div>"
      ],
      "text/plain": [
       "     AtIndex  precision    Feature 1    Feature 2\n",
       "0          0   0.290456         Apps       Accept\n",
       "1          1   0.178991         Apps       Enroll\n",
       "2          2   0.576122         Apps    Top10perc\n",
       "3          3   0.640613         Apps    Top25perc\n",
       "4          4   0.830270         Apps  F.Undergrad\n",
       "5          5   0.806898         Apps  P.Undergrad\n",
       "6          6   0.438977         Apps     Outstate\n",
       "7          7   0.709430         Apps   Room.Board\n",
       "8          8   0.328265         Apps        Books\n",
       "9          9   0.760646         Apps     Personal\n",
       "10        10   0.711740         Apps          PhD\n",
       "11        11   0.552203         Apps     Terminal\n",
       "12        12   0.302710         Apps    S.F.Ratio\n",
       "13        13   0.444059         Apps  perc.alumni\n",
       "14        14   0.583186         Apps       Expend\n",
       "15        15   0.473215         Apps    Grad.Rate\n",
       "16        16   0.167126       Accept       Enroll\n",
       "17        17   0.648580       Accept    Top10perc\n",
       "18        18   0.635674       Accept    Top25perc\n",
       "19        19   0.124027       Accept  F.Undergrad\n",
       "20        20   0.203606       Accept  P.Undergrad\n",
       "21        21   0.818672       Accept     Outstate\n",
       "22        22   0.708848       Accept   Room.Board\n",
       "23        23   0.768324       Accept        Books\n",
       "24        24   0.766245       Accept     Personal\n",
       "25        25   0.712883       Accept          PhD\n",
       "26        26   0.671003       Accept     Terminal\n",
       "27        27   0.271151       Accept    S.F.Ratio\n",
       "28        28   0.797521       Accept  perc.alumni\n",
       "29        29   0.402151       Accept       Expend\n",
       "..       ...        ...          ...          ...\n",
       "106      106   0.737842   Room.Board       Expend\n",
       "107      107   0.777988   Room.Board    Grad.Rate\n",
       "108      108   0.717364        Books     Personal\n",
       "109      109   0.525008        Books          PhD\n",
       "110      110   0.550008        Books     Terminal\n",
       "111      111   0.812883        Books    S.F.Ratio\n",
       "112      112   0.444725        Books  perc.alumni\n",
       "113      113   0.533598        Books       Expend\n",
       "114      114   0.461221        Books    Grad.Rate\n",
       "115      115   0.522441     Personal          PhD\n",
       "116      116   0.663761     Personal     Terminal\n",
       "117      117   0.813735     Personal    S.F.Ratio\n",
       "118      118   0.795629     Personal  perc.alumni\n",
       "119      119   0.743610     Personal       Expend\n",
       "120      120   0.446628     Personal    Grad.Rate\n",
       "121      121   0.534975          PhD     Terminal\n",
       "122      122   0.525906          PhD    S.F.Ratio\n",
       "123      123   0.464948          PhD  perc.alumni\n",
       "124      124   0.527008          PhD       Expend\n",
       "125      125   0.627761          PhD    Grad.Rate\n",
       "126      126   0.559483     Terminal    S.F.Ratio\n",
       "127      127   0.713130     Terminal  perc.alumni\n",
       "128      128   0.566463     Terminal       Expend\n",
       "129      129   0.594239     Terminal    Grad.Rate\n",
       "130      130   0.796119    S.F.Ratio  perc.alumni\n",
       "131      131   0.798721    S.F.Ratio       Expend\n",
       "132      132   0.771775    S.F.Ratio    Grad.Rate\n",
       "133      133   0.445153  perc.alumni       Expend\n",
       "134      134   0.803448  perc.alumni    Grad.Rate\n",
       "135      135   0.748204       Expend    Grad.Rate\n",
       "\n",
       "[136 rows x 4 columns]"
      ]
     },
     "execution_count": 17,
     "metadata": {},
     "output_type": "execute_result"
    }
   ],
   "source": [
    "fit_k2 = clusters_by_k(data, k=2)\n",
    "fit_k2['df']"
   ]
  },
  {
   "cell_type": "code",
   "execution_count": 18,
   "metadata": {},
   "outputs": [
    {
     "name": "stdout",
     "output_type": "stream",
     "text": [
      "The top 5 clustering precisions at K = 2 and with two features are:\n"
     ]
    },
    {
     "data": {
      "text/html": [
       "<div>\n",
       "<style scoped>\n",
       "    .dataframe tbody tr th:only-of-type {\n",
       "        vertical-align: middle;\n",
       "    }\n",
       "\n",
       "    .dataframe tbody tr th {\n",
       "        vertical-align: top;\n",
       "    }\n",
       "\n",
       "    .dataframe thead th {\n",
       "        text-align: right;\n",
       "    }\n",
       "</style>\n",
       "<table border=\"1\" class=\"dataframe\">\n",
       "  <thead>\n",
       "    <tr style=\"text-align: right;\">\n",
       "      <th></th>\n",
       "      <th>AtIndex</th>\n",
       "      <th>precision</th>\n",
       "      <th>Feature 1</th>\n",
       "      <th>Feature 2</th>\n",
       "    </tr>\n",
       "  </thead>\n",
       "  <tbody>\n",
       "    <tr>\n",
       "      <th>77</th>\n",
       "      <td>77</td>\n",
       "      <td>0.853325</td>\n",
       "      <td>F.Undergrad</td>\n",
       "      <td>S.F.Ratio</td>\n",
       "    </tr>\n",
       "    <tr>\n",
       "      <th>35</th>\n",
       "      <td>35</td>\n",
       "      <td>0.836861</td>\n",
       "      <td>Enroll</td>\n",
       "      <td>Outstate</td>\n",
       "    </tr>\n",
       "    <tr>\n",
       "      <th>4</th>\n",
       "      <td>4</td>\n",
       "      <td>0.830270</td>\n",
       "      <td>Apps</td>\n",
       "      <td>F.Undergrad</td>\n",
       "    </tr>\n",
       "    <tr>\n",
       "      <th>97</th>\n",
       "      <td>97</td>\n",
       "      <td>0.829275</td>\n",
       "      <td>Outstate</td>\n",
       "      <td>perc.alumni</td>\n",
       "    </tr>\n",
       "    <tr>\n",
       "      <th>21</th>\n",
       "      <td>21</td>\n",
       "      <td>0.818672</td>\n",
       "      <td>Accept</td>\n",
       "      <td>Outstate</td>\n",
       "    </tr>\n",
       "  </tbody>\n",
       "</table>\n",
       "</div>"
      ],
      "text/plain": [
       "    AtIndex  precision    Feature 1    Feature 2\n",
       "77       77   0.853325  F.Undergrad    S.F.Ratio\n",
       "35       35   0.836861       Enroll     Outstate\n",
       "4         4   0.830270         Apps  F.Undergrad\n",
       "97       97   0.829275     Outstate  perc.alumni\n",
       "21       21   0.818672       Accept     Outstate"
      ]
     },
     "execution_count": 18,
     "metadata": {},
     "output_type": "execute_result"
    }
   ],
   "source": [
    "print(\"The top 5 clustering precisions at K = 2 and with two features are:\")\n",
    "top_5 = fit_k2['df'].nlargest(5,'precision')\n",
    "top_5"
   ]
  },
  {
   "cell_type": "code",
   "execution_count": null,
   "metadata": {},
   "outputs": [],
   "source": []
  },
  {
   "cell_type": "code",
   "execution_count": null,
   "metadata": {},
   "outputs": [],
   "source": []
  }
 ],
 "metadata": {
  "anaconda-cloud": {},
  "kernelspec": {
   "display_name": "Python 3",
   "language": "python",
   "name": "python3"
  },
  "language_info": {
   "codemirror_mode": {
    "name": "ipython",
    "version": 3
   },
   "file_extension": ".py",
   "mimetype": "text/x-python",
   "name": "python",
   "nbconvert_exporter": "python",
   "pygments_lexer": "ipython3",
   "version": "3.7.2"
  }
 },
 "nbformat": 4,
 "nbformat_minor": 1
}
